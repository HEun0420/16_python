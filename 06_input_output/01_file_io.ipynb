{
 "cells": [
  {
   "cell_type": "markdown",
   "metadata": {},
   "source": [
    "# 01. 파일 입출력\n",
    "\n",
    "## 01-01. 파일 접근\n",
    "\n",
    "### 01-01-01. 파일 열기 open()\n",
    "\n",
    "* 인자로 경로를 포함한 파일명과 파일 열기 모드를 알파벳으로 전달하면서 호출하면, 파일 객체를 반환하는 함수\n",
    "\n",
    "* 첫번째 매개변수 : 파일명(경로 포함)\n",
    "* 두번째 매개변수 : 파일 열기 모드를 설정\n",
    "    * r: 읽기 모드\n",
    "    * w: 쓰기모드(덮어쓰기), 기존 파일이 없으면 새로운 파일이 생성된다.\n",
    "    * a: 수정모드(파일 끝에 내용 추가)"
   ]
  },
  {
   "cell_type": "code",
   "execution_count": 1,
   "metadata": {},
   "outputs": [],
   "source": [
    "f = open('song.txt', 'r')"
   ]
  },
  {
   "cell_type": "markdown",
   "metadata": {},
   "source": [
    "### 01-01-02. 파일 닫기 : close()\n",
    "* 열러있는 파일 객체를 닫아주는 역할"
   ]
  },
  {
   "cell_type": "code",
   "execution_count": 2,
   "metadata": {},
   "outputs": [],
   "source": [
    "f.close()"
   ]
  },
  {
   "cell_type": "markdown",
   "metadata": {},
   "source": [
    "## 01-02 파일 쓰기\n",
    "### 01-02-01. write()\n",
    "* open한 파일 객체에 대해 write() 메서드를 사용하면, 인자로 넘겨준 하나의 문자열을 파일에 작성한다."
   ]
  },
  {
   "cell_type": "code",
   "execution_count": 3,
   "metadata": {},
   "outputs": [],
   "source": [
    "f = open('song_test.txt', 'w')\n",
    "\n",
    "f.write('보지않아도 보여서')\n",
    "\n",
    "f.close()"
   ]
  },
  {
   "cell_type": "markdown",
   "metadata": {},
   "source": [
    "## 01-02-02. writelines()\n",
    "* 인자로 넘겨준 리스트의 요소를 하나하나 파일에 작성한다."
   ]
  },
  {
   "cell_type": "code",
   "execution_count": 4,
   "metadata": {},
   "outputs": [],
   "source": [
    "data = [\n",
    "    '보지않아도 보여서\\n'\n",
    "    '듣지않아도 들려서\\n'\n",
    "    '그대 손결에 다시살아난 바람꽃처럼\\n'\n",
    "]\n",
    "\n",
    "f = open('song_test.txt', 'w')\n",
    "\n",
    "f.writelines(data)\n",
    "\n",
    "f.close()"
   ]
  },
  {
   "cell_type": "markdown",
   "metadata": {},
   "source": [
    "## 01-03. 파일 읽기\n",
    "### 01-03-01. 파일 전체 읽기 read()\n",
    "\n",
    "* 파일 전체 내용을 읽어와 하나의 문자열로 반환\n"
   ]
  },
  {
   "cell_type": "code",
   "execution_count": 6,
   "metadata": {},
   "outputs": [
    {
     "name": "stdout",
     "output_type": "stream",
     "text": [
      "이대로 돌아설거면 사라질거면\n",
      "피어나지 않았어\n",
      "이렇게 바라보면서 숨이막히면\n",
      "눈을감은채 살아도 좋을까\n",
      "\n",
      "가고싶어도 못가는\n",
      "안고싶어도 못안는\n",
      "그대손끝이 내맘에 닿으니\n"
     ]
    }
   ],
   "source": [
    "f = open('song.txt', 'r')\n",
    "data = f.read()\n",
    "\n",
    "print(data)\n",
    "\n",
    "f.close()"
   ]
  },
  {
   "cell_type": "markdown",
   "metadata": {},
   "source": [
    "### 01-03-02. 파일에서 한줄만 읽기: readline()"
   ]
  },
  {
   "cell_type": "code",
   "execution_count": 3,
   "metadata": {},
   "outputs": [
    {
     "name": "stdout",
     "output_type": "stream",
     "text": [
      "이대로 돌아설거면 사라질거면\n",
      "\n",
      "피어나지 않았어\n",
      "\n",
      "이렇게 바라보면서 숨이막히면\n",
      "\n",
      "눈을감은채 살아도 좋을까\n",
      "\n",
      "\n",
      "\n",
      "가고싶어도 못가는\n",
      "\n",
      "안고싶어도 못안는\n",
      "\n",
      "그대손끝이 내맘에 닿으니\n",
      "\n",
      "노래끝\n"
     ]
    }
   ],
   "source": [
    "f = open('song.txt', 'r')\n",
    "\n",
    "while True:\n",
    "    data = f.readline()\n",
    "\n",
    "    if not data:\n",
    "        break\n",
    "    print(data)\n",
    "\n",
    "f.close()"
   ]
  },
  {
   "cell_type": "code",
   "execution_count": 7,
   "metadata": {},
   "outputs": [
    {
     "name": "stdout",
     "output_type": "stream",
     "text": [
      "['이대로 돌아설거면 사라질거면\\n', '피어나지 않았어\\n', '이렇게 바라보면서 숨이막히면\\n', '눈을감은채 살아도 좋을까\\n', '\\n', '가고싶어도 못가는\\n', '안고싶어도 못안는\\n', '그대손끝이 내맘에 닿으니']\n"
     ]
    }
   ],
   "source": [
    "# 파일 전체를 줄마다 (리스트 형태로) 가져오기\n",
    "f = open('song.txt', 'r')\n",
    "\n",
    "data = f.readlines()\n",
    "print(data)\n",
    "\n",
    "f.close()"
   ]
  },
  {
   "cell_type": "markdown",
   "metadata": {},
   "source": [
    "---\n",
    "## 01-04. 파일 내용 추가하기\n",
    "### 01-04-01. 파일 내용 추가 모드\n",
    "* 추가모드 'a'를 사용하여 파일을 열어 내용을 추가할 수 있다."
   ]
  },
  {
   "cell_type": "code",
   "execution_count": 1,
   "metadata": {},
   "outputs": [],
   "source": [
    "f= open('song.txt', 'a')\n",
    "f.write('\\n노래끝')\n",
    "f.close()"
   ]
  },
  {
   "cell_type": "markdown",
   "metadata": {},
   "source": [
    "---\n",
    "## 01-05. with 키위드\n",
    "\n",
    "* 파일을 열어서 사용하고 사용이 종료되면 닫는 역할을 한다.\n",
    "* with문을 사용하면 with 블록을 벗어나는 순간, 객체가 닫히게 된다."
   ]
  },
  {
   "cell_type": "code",
   "execution_count": 2,
   "metadata": {},
   "outputs": [],
   "source": [
    "with open(\"song_test.txt\",'w') as f:\n",
    "    f.write(\"Life is too short, you need python\")"
   ]
  },
  {
   "cell_type": "code",
   "execution_count": null,
   "metadata": {},
   "outputs": [],
   "source": []
  },
  {
   "cell_type": "code",
   "execution_count": null,
   "metadata": {},
   "outputs": [],
   "source": []
  },
  {
   "cell_type": "code",
   "execution_count": null,
   "metadata": {},
   "outputs": [],
   "source": []
  },
  {
   "cell_type": "code",
   "execution_count": null,
   "metadata": {},
   "outputs": [],
   "source": []
  },
  {
   "cell_type": "code",
   "execution_count": null,
   "metadata": {},
   "outputs": [],
   "source": []
  }
 ],
 "metadata": {
  "kernelspec": {
   "display_name": "pylecture_env",
   "language": "python",
   "name": "python3"
  },
  "language_info": {
   "codemirror_mode": {
    "name": "ipython",
    "version": 3
   },
   "file_extension": ".py",
   "mimetype": "text/x-python",
   "name": "python",
   "nbconvert_exporter": "python",
   "pygments_lexer": "ipython3",
   "version": "3.12.7"
  }
 },
 "nbformat": 4,
 "nbformat_minor": 2
}
