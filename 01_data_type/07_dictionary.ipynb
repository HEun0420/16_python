{
 "cells": [
  {
   "cell_type": "markdown",
   "metadata": {},
   "source": [
    "# 07. 딕셔너리 (Dictionaries)\n",
    "---\n",
    "## 07-01. 딕셔너리 개요\n",
    "### 07-01-01. 딕셔너리 표현식"
   ]
  },
  {
   "cell_type": "code",
   "execution_count": 2,
   "metadata": {},
   "outputs": [
    {
     "name": "stdout",
     "output_type": "stream",
     "text": [
      "<class 'dict'>\n",
      "bear\n",
      "ohgiraffers\n"
     ]
    }
   ],
   "source": [
    "teacher = {'name': 'bear', 'team': 'ohgiraffers'}\n",
    "\n",
    "print(type(teacher))\n",
    "\n",
    "print(teacher['name'])\n",
    "print(teacher['team'])"
   ]
  },
  {
   "cell_type": "markdown",
   "metadata": {},
   "source": [
    "### 07-01-02. 딕셔너리의 특징\n",
    "1. 키(key)와 값(value)의 쌍으로 이루어진 데이터\n",
    "* 사전에서 단어를 찾아 뜻을 확인하는 것처럼, Dictionaries에서 키를 사용하여 값을 찾고 활용 가능하다."
   ]
  },
  {
   "cell_type": "code",
   "execution_count": 3,
   "metadata": {},
   "outputs": [
    {
     "name": "stdout",
     "output_type": "stream",
     "text": [
      "{'tiger': 'langChain', 'squirrel': 'JPA', 'bear': 'python', 'gorilla': 'spring'}\n",
      "python\n"
     ]
    }
   ],
   "source": [
    "ohgiraffers = {\n",
    "    'tiger' : 'langChain',\n",
    "    'squirrel' : 'JPA',\n",
    "    'bear' : 'python',\n",
    "    'gorilla' : 'spring'\n",
    "}\n",
    "\n",
    "print(ohgiraffers)\n",
    "\n",
    "print(ohgiraffers['bear'])"
   ]
  },
  {
   "cell_type": "markdown",
   "metadata": {},
   "source": [
    "2. 키는 고유해야 하며, 불변한 데이터 타입이어야한다.\n",
    "\n",
    "* 키는 유일하게 존재해야 하므로, 동일한 키로 여러 값을 저장 불가능하다.\n",
    "* 중복키로 값을 저장하면, 기본값을 덮어쓴다.\n",
    " => 데이터 검색 및 관리의 효율성을 높여줌\n",
    "* key로 tuple(불변하므로) 사용할 수 있다."
   ]
  },
  {
   "cell_type": "code",
   "execution_count": 4,
   "metadata": {},
   "outputs": [
    {
     "name": "stdout",
     "output_type": "stream",
     "text": [
      "bear.ohgiraffers\n"
     ]
    }
   ],
   "source": [
    "valid_key_dic = {(\"name\", \"team\"): 'bear.ohgiraffers'}\n",
    "\n",
    "print(valid_key_dic[('name', 'team')])"
   ]
  },
  {
   "cell_type": "markdown",
   "metadata": {},
   "source": [
    "3. Dictionaries는 가변적인 구조이다.\n",
    "* 딕셔너리는 생성 후 키-값 쌍을 추가, 수정, 삭제 할 수 있다."
   ]
  },
  {
   "cell_type": "code",
   "execution_count": 7,
   "metadata": {},
   "outputs": [
    {
     "name": "stdout",
     "output_type": "stream",
     "text": [
      "python\n",
      "java\n"
     ]
    }
   ],
   "source": [
    "ohgiraffers = {\n",
    "    'tiger' : 'langChain',\n",
    "    'squirrel' : 'JPA',\n",
    "    'bear' : 'python',\n",
    "    'gorilla' : 'spring'\n",
    "}\n",
    "\n",
    "print(ohgiraffers['bear'])\n",
    "\n",
    "ohgiraffers['bear'] = 'java'\n",
    "\n",
    "print(ohgiraffers['bear'])\n",
    "\n",
    "# del 키워드 사용 가능\n",
    "\n",
    "del ohgiraffers\n"
   ]
  },
  {
   "cell_type": "markdown",
   "metadata": {},
   "source": [
    "---\n",
    "## 07-02. 딕셔너리 메서드\n",
    "1. get()\n",
    "* 키를 사용하여 값을 가져오는 메서드\n",
    "* 키가 존재하지 않으면 기본값을 반환하거나, None을 반환한다."
   ]
  },
  {
   "cell_type": "code",
   "execution_count": 8,
   "metadata": {},
   "outputs": [
    {
     "name": "stdout",
     "output_type": "stream",
     "text": [
      "python\n",
      "python\n",
      "None\n",
      "default_value\n"
     ]
    }
   ],
   "source": [
    "ohgiraffers = {\n",
    "    'tiger' : 'langChain',\n",
    "    'squirrel' : 'JPA',\n",
    "    'bear' : 'python',\n",
    "    'gorilla' : 'spring'\n",
    "}\n",
    "\n",
    "print(ohgiraffers['bear'])\n",
    "print(ohgiraffers.get('bear'))\n",
    "print(ohgiraffers.get('bear2')) # 없으면 None\n",
    "print(ohgiraffers.get('bear2', 'default_value')) # 없으면 default_value\n",
    "\n",
    "# keys()\n",
    "# 딕셔너리의 모든 키를 반환하는 메서드\n",
    "print(ohgiraffers.keys())\n",
    "\n",
    "# values()\n",
    "# 딕셔너리의 모든 벨류를 반환하는 메서드\n",
    "print(ohgiraffers.values())\n",
    "\n",
    "# items()\n",
    "# 딕셔너리의 모든 키-벨류 쌍을 반환하는 메서드\n",
    "print(ohgiraffers.items())"
   ]
  },
  {
   "cell_type": "markdown",
   "metadata": {},
   "source": []
  },
  {
   "cell_type": "markdown",
   "metadata": {},
   "source": [
    "밑은 연습문제들 푼 흔적임"
   ]
  },
  {
   "cell_type": "code",
   "execution_count": 7,
   "metadata": {},
   "outputs": [
    {
     "name": "stdout",
     "output_type": "stream",
     "text": [
      "2360\n",
      "40120\n",
      "181720\n",
      "181720\n"
     ]
    }
   ],
   "source": [
    "# a,b,c = map(int, input().split())\n",
    "\n",
    "a= 472\n",
    "b= 385\n",
    "\n",
    "print(a*(b%10))\n",
    "print(a*(b%100))\n",
    "\n",
    "37760\n",
    "print(a*b)"
   ]
  },
  {
   "cell_type": "code",
   "execution_count": 6,
   "metadata": {},
   "outputs": [
    {
     "name": "stdout",
     "output_type": "stream",
     "text": [
      "2360\n",
      "3776\n",
      "1416\n",
      "181720\n"
     ]
    }
   ],
   "source": [
    "a, b, c= map(int, input().split())\n",
    "\n",
    "print(a+b+c)"
   ]
  },
  {
   "cell_type": "code",
   "execution_count": 2,
   "metadata": {},
   "outputs": [
    {
     "name": "stdout",
     "output_type": "stream",
     "text": [
      "{'\\\\    /\\\\\"\\n\")  ( \"\\'\")\"\\n\"', '(  /  )\\n', ' \\\\(__)|'}\n"
     ]
    },
    {
     "name": "stderr",
     "output_type": "stream",
     "text": [
      "<>:2: SyntaxWarning: invalid escape sequence '\\ '\n",
      "<>:5: SyntaxWarning: invalid escape sequence '\\('\n",
      "<>:2: SyntaxWarning: invalid escape sequence '\\ '\n",
      "<>:5: SyntaxWarning: invalid escape sequence '\\('\n",
      "C:\\Users\\80414\\AppData\\Local\\Temp\\ipykernel_9520\\1118801956.py:2: SyntaxWarning: invalid escape sequence '\\ '\n",
      "  '\\    /\\\\\"\\n\"'\n",
      "C:\\Users\\80414\\AppData\\Local\\Temp\\ipykernel_9520\\1118801956.py:5: SyntaxWarning: invalid escape sequence '\\('\n",
      "  ' \\(__)|'\n"
     ]
    }
   ],
   "source": [
    "cat= {\n",
    "'\\    /\\\\\"\\n\"'\n",
    " ')  ( \"\\'\")\"\\n\"',\n",
    "'(  /  )'\"\\n\",\n",
    "' \\(__)|'    \n",
    "}\n",
    "\n",
    "print(cat)"
   ]
  },
  {
   "cell_type": "code",
   "execution_count": 3,
   "metadata": {},
   "outputs": [
    {
     "ename": "SyntaxError",
     "evalue": "expected ':' (726010737.py, line 7)",
     "output_type": "error",
     "traceback": [
      "\u001b[1;36m  Cell \u001b[1;32mIn[3], line 7\u001b[1;36m\u001b[0m\n\u001b[1;33m    else a == b:\u001b[0m\n\u001b[1;37m         ^\u001b[0m\n\u001b[1;31mSyntaxError\u001b[0m\u001b[1;31m:\u001b[0m expected ':'\n"
     ]
    }
   ],
   "source": [
    "a, b = map(int, input().split())\n",
    "\n",
    "if a > b:\n",
    "    print('>')\n",
    "elif a < b:\n",
    "    print('<')\n",
    "else:\n",
    "    print('==')"
   ]
  },
  {
   "cell_type": "code",
   "execution_count": 4,
   "metadata": {},
   "outputs": [
    {
     "name": "stdout",
     "output_type": "stream",
     "text": [
      "C\n"
     ]
    }
   ],
   "source": [
    "a = int(input())\n",
    "if a%4 == 0 and a%100 != 0:\n",
    "    print(1)\n",
    "elif a%400 == 0:\n",
    "    print(1)\n",
    "else:\n",
    "    print(0)\n"
   ]
  },
  {
   "cell_type": "code",
   "execution_count": 21,
   "metadata": {},
   "outputs": [
    {
     "name": "stdout",
     "output_type": "stream",
     "text": [
      "22 55\n"
     ]
    }
   ],
   "source": [
    "h, m = map(int, input().split())\n",
    "\n",
    "\n",
    "if 0<=m<=44 and 0<h<= 23 :\n",
    "    print(h-1, (m-45)+60)\n",
    "elif 0<=m<=44 and h==0:\n",
    "    print(23,(m-45)+60)\n",
    "elif 45<=m<=59 and 0<=h<= 23:\n",
    "    print (h,m-45)\n"
   ]
  },
  {
   "cell_type": "code",
   "execution_count": 29,
   "metadata": {},
   "outputs": [
    {
     "name": "stdout",
     "output_type": "stream",
     "text": [
      "1 13\n"
     ]
    }
   ],
   "source": [
    "a, b = map(int, input().split())\n",
    "c = int(input())\n",
    "\n",
    "timer= b+c\n",
    "\n",
    "new_hour = (a+ (timer//60)) % 24\n",
    "new_min = timer%60\n",
    "\n",
    "print(new_hour, new_min)"
   ]
  },
  {
   "cell_type": "code",
   "execution_count": 33,
   "metadata": {},
   "outputs": [
    {
     "name": "stdout",
     "output_type": "stream",
     "text": [
      "600\n"
     ]
    }
   ],
   "source": [
    "a, b, c = map(int, input().split())\n",
    "1<= a,b,c <=6\n",
    "\n",
    "if a==b==c:\n",
    "    print(10000+a*1000)\n",
    "elif a==b or a==c:\n",
    "    print(1000+100*a)\n",
    "elif b==c:\n",
    "    print(1000+100*b)\n",
    "else:\n",
    "    print(max(a, b, c) * 100)"
   ]
  },
  {
   "cell_type": "code",
   "execution_count": 36,
   "metadata": {},
   "outputs": [
    {
     "name": "stdout",
     "output_type": "stream",
     "text": [
      "2 * 2 = 4\n",
      "2 * 3 = 6\n",
      "2 * 4 = 8\n",
      "2 * 5 = 10\n",
      "2 * 6 = 12\n",
      "2 * 7 = 14\n",
      "2 * 8 = 16\n"
     ]
    }
   ],
   "source": [
    "n = int(input())\n",
    "for i in range(1,10):\n",
    "    print(f\"{n} * {i} = {n*i}\")"
   ]
  },
  {
   "cell_type": "code",
   "execution_count": 39,
   "metadata": {},
   "outputs": [
    {
     "name": "stdout",
     "output_type": "stream",
     "text": [
      "2\n",
      "5\n",
      "7\n",
      "17\n",
      "7\n"
     ]
    }
   ],
   "source": [
    "t = int(input())  \n",
    "\n",
    "for i in range(t): \n",
    "    a, b = map(int, input().split())\n",
    "    print(a + b) \n"
   ]
  },
  {
   "cell_type": "code",
   "execution_count": 41,
   "metadata": {},
   "outputs": [
    {
     "name": "stdout",
     "output_type": "stream",
     "text": [
      "6\n"
     ]
    }
   ],
   "source": [
    "n = int(input())\n",
    "\n",
    "total = 0\n",
    "for i in range(1,n+1):\n",
    "    total += i\n",
    "    \n",
    "    print(total) "
   ]
  },
  {
   "cell_type": "code",
   "execution_count": 4,
   "metadata": {},
   "outputs": [
    {
     "name": "stdout",
     "output_type": "stream",
     "text": [
      "Yes\n"
     ]
    }
   ],
   "source": [
    "x = int(input())\n",
    "n= int(input())\n",
    "\n",
    "total = 0\n",
    "\n",
    "for i in range(1,n+1):\n",
    "    a,b =map(int, input().split())\n",
    "    productValues= a*b\n",
    "    total+= productValues\n",
    "    \n",
    "if total == x:\n",
    "    print(\"Yes\")\n",
    "else:\n",
    "    print(\"No\")\n",
    "\n"
   ]
  },
  {
   "cell_type": "code",
   "execution_count": 6,
   "metadata": {},
   "outputs": [
    {
     "name": "stdout",
     "output_type": "stream",
     "text": [
      "long long long long long int\n"
     ]
    }
   ],
   "source": [
    "n= int(input())\n",
    "zStr = \"long \"\n",
    "4<= n <= 1000\n",
    "n%4 == 0\n",
    "\n",
    "\n",
    "result = zStr*(n//4)\n",
    "    \n",
    "\n",
    "print( result+ \"int\")"
   ]
  },
  {
   "cell_type": "code",
   "execution_count": 8,
   "metadata": {},
   "outputs": [
    {
     "name": "stdout",
     "output_type": "stream",
     "text": [
      "2\n",
      "46\n",
      "505\n",
      "100\n",
      "2000\n"
     ]
    }
   ],
   "source": [
    "import sys\n",
    "\n",
    "t = int(sys.stdin.readline())  \n",
    "total = 0\n",
    "\n",
    "for i in range(t):\n",
    "    a, b = map(int, sys.stdin.readline().split())\n",
    "    total = a + b\n",
    "    print(a + b)"
   ]
  },
  {
   "cell_type": "code",
   "execution_count": 13,
   "metadata": {},
   "outputs": [
    {
     "name": "stdout",
     "output_type": "stream",
     "text": [
      "Case # 1: 2\n",
      "Case # 2: 5\n",
      "Case # 3: 7\n",
      "Case # 4: 17\n",
      "Case # 5: 7\n"
     ]
    }
   ],
   "source": [
    "x = int(input())\n",
    "\n",
    "for i in range(1, x + 1):\n",
    "    a, b = map(int, input().split())\n",
    "    \n",
    "    if 0 < a < 10 and 0 < b < 10:\n",
    "        plusAB = a + b\n",
    "        print(f\"Case #{i}: {plusAB}\")\n",
    "    else:\n",
    "        print(f\"Case #{i}: 조건에 포함되지 않은 수입니다.\")\n"
   ]
  },
  {
   "cell_type": "code",
   "execution_count": null,
   "metadata": {},
   "outputs": [],
   "source": [
    "x = int(input())\n",
    "\n",
    "for i in range(1, x + 1):\n",
    "    a, b = map(int, input().split())\n",
    "    \n",
    "    if 0 < a < 10 and 0 < b < 10:\n",
    "        plusAB = a + b\n",
    "        print(f\"Case #{i}: {a} + {b} = {plusAB}\")\n",
    "    else:\n",
    "        print(f\"Case #{i}: 조건에 포함되지 않은 수입니다.\")\n"
   ]
  },
  {
   "cell_type": "code",
   "execution_count": 15,
   "metadata": {},
   "outputs": [
    {
     "name": "stdout",
     "output_type": "stream",
     "text": [
      "*\n",
      "**\n",
      "***\n",
      "****\n",
      "*****\n"
     ]
    }
   ],
   "source": [
    "n= int(input())\n",
    "1<=n <=100\n",
    "star= \"*\"\n",
    "\n",
    "for i in range(1,n+1):\n",
    "    print(star*i)"
   ]
  },
  {
   "cell_type": "code",
   "execution_count": 17,
   "metadata": {},
   "outputs": [
    {
     "name": "stdout",
     "output_type": "stream",
     "text": [
      "    *\n",
      "   **\n",
      "  ***\n",
      " ****\n",
      "*****\n"
     ]
    }
   ],
   "source": [
    "n= int(input())\n",
    "1<=n <=100\n",
    "star= \"*\"\n",
    "\n",
    "for i in range(1,n+1):\n",
    "    print(' '*(n-i)+star*i)"
   ]
  },
  {
   "cell_type": "code",
   "execution_count": 19,
   "metadata": {},
   "outputs": [
    {
     "name": "stdout",
     "output_type": "stream",
     "text": [
      "2\n",
      "5\n",
      "7\n",
      "17\n",
      "7\n"
     ]
    }
   ],
   "source": [
    "\n",
    "while True:\n",
    "    a, b = map(int, input().split())\n",
    "    \n",
    "    if a == 0 and b == 0:\n",
    "        break  \n",
    "    elif 0 < a < 10 and 0 < b < 10:\n",
    "        plusAB = a + b\n",
    "        print(plusAB)  \n",
    "    else:\n",
    "        print(\"조건에 맞지 않는 수입니다.\")\n"
   ]
  },
  {
   "cell_type": "code",
   "execution_count": 20,
   "metadata": {},
   "outputs": [
    {
     "name": "stdout",
     "output_type": "stream",
     "text": [
      "2\n",
      "5\n",
      "7\n",
      "17\n",
      "7\n"
     ]
    }
   ],
   "source": [
    "\n",
    "while True:\n",
    "    try: \n",
    "        a, b = map(int, input().split())\n",
    "        plusAB = a + b\n",
    "        print(plusAB)  \n",
    "    except:\n",
    "        break\n"
   ]
  },
  {
   "cell_type": "code",
   "execution_count": 23,
   "metadata": {},
   "outputs": [
    {
     "name": "stdout",
     "output_type": "stream",
     "text": [
      "1\n"
     ]
    }
   ],
   "source": [
    "n = int(input())\n",
    "n_list = list(map(int, input().split()))\n",
    "v = int(input())\n",
    "print(n_list.count(v))\n",
    "\n"
   ]
  },
  {
   "cell_type": "code",
   "execution_count": 50,
   "metadata": {},
   "outputs": [
    {
     "name": "stdout",
     "output_type": "stream",
     "text": [
      "1 2 3\n"
     ]
    }
   ],
   "source": [
    "n, x = map(int,input().split())\n",
    "n_list = list(map(int, input().split()))\n",
    "result_list = \"\"\n",
    "del str\n",
    "\n",
    "for num in n_list:\n",
    "    if num <x:\n",
    "        result_list += str(num) + \" \"\n",
    "\n",
    "print(result_list.strip())"
   ]
  },
  {
   "cell_type": "code",
   "execution_count": 28,
   "metadata": {},
   "outputs": [
    {
     "name": "stdout",
     "output_type": "stream",
     "text": [
      "1 7\n"
     ]
    }
   ],
   "source": [
    "n = int(input())\n",
    "\n",
    "n_list = list(map(int, input().split()))\n",
    "\n",
    "max_valuse= max(n_list)\n",
    "min_valuse= min(n_list)\n",
    "\n",
    "print(min_valuse,max_valuse)"
   ]
  },
  {
   "cell_type": "code",
   "execution_count": 40,
   "metadata": {},
   "outputs": [
    {
     "name": "stdout",
     "output_type": "stream",
     "text": [
      "9\n",
      "6\n"
     ]
    }
   ],
   "source": [
    "# n = 9\n",
    "# nineList = list(map(int, input().split()))\n",
    "\n",
    "nineList = []\n",
    "for i in range(9):\n",
    "    nineList.append(int(input()))\n",
    "\n",
    "    maxIndex= nineList.index(max(nineList))+1\n",
    "\n",
    "print(max(nineList))\n",
    "print(maxIndex)"
   ]
  },
  {
   "cell_type": "code",
   "execution_count": 51,
   "metadata": {},
   "outputs": [
    {
     "name": "stdout",
     "output_type": "stream",
     "text": [
      "1 2 1 1 0\n"
     ]
    }
   ],
   "source": [
    "n, m = map(int, input().split())\n",
    "# 바구니 상태를 저장 + append(0)으로 전부 비워두기\n",
    "baskets = []\n",
    "for i in range(0, n, 1) :\n",
    "    baskets.append(0)\n",
    "\n",
    "# m만큼 공을 넣기\n",
    "for _ in range(m):\n",
    "    i, j, k = map(int, input().split())\n",
    "    \n",
    "    for ballIndex in range(i-1,j):\n",
    "        baskets[ballIndex]= k # i번부터 j번까지 k번 공을 넣기\n",
    "    \n",
    "print(' '.join(map(str,baskets)))"
   ]
  },
  {
   "cell_type": "code",
   "execution_count": null,
   "metadata": {},
   "outputs": [],
   "source": []
  },
  {
   "cell_type": "code",
   "execution_count": null,
   "metadata": {},
   "outputs": [],
   "source": []
  },
  {
   "cell_type": "code",
   "execution_count": null,
   "metadata": {},
   "outputs": [],
   "source": []
  },
  {
   "cell_type": "code",
   "execution_count": null,
   "metadata": {},
   "outputs": [],
   "source": []
  },
  {
   "cell_type": "code",
   "execution_count": null,
   "metadata": {},
   "outputs": [],
   "source": []
  },
  {
   "cell_type": "code",
   "execution_count": null,
   "metadata": {},
   "outputs": [],
   "source": []
  },
  {
   "cell_type": "code",
   "execution_count": null,
   "metadata": {},
   "outputs": [],
   "source": []
  },
  {
   "cell_type": "code",
   "execution_count": null,
   "metadata": {},
   "outputs": [],
   "source": []
  },
  {
   "cell_type": "code",
   "execution_count": null,
   "metadata": {},
   "outputs": [],
   "source": []
  },
  {
   "cell_type": "code",
   "execution_count": null,
   "metadata": {},
   "outputs": [],
   "source": []
  },
  {
   "cell_type": "code",
   "execution_count": null,
   "metadata": {},
   "outputs": [],
   "source": []
  },
  {
   "cell_type": "code",
   "execution_count": null,
   "metadata": {},
   "outputs": [],
   "source": []
  },
  {
   "cell_type": "code",
   "execution_count": null,
   "metadata": {},
   "outputs": [],
   "source": []
  }
 ],
 "metadata": {
  "kernelspec": {
   "display_name": "pylecture_env",
   "language": "python",
   "name": "python3"
  },
  "language_info": {
   "codemirror_mode": {
    "name": "ipython",
    "version": 3
   },
   "file_extension": ".py",
   "mimetype": "text/x-python",
   "name": "python",
   "nbconvert_exporter": "python",
   "pygments_lexer": "ipython3",
   "version": "3.12.7"
  }
 },
 "nbformat": 4,
 "nbformat_minor": 2
}
