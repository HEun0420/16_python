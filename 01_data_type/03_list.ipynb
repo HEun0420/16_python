{
 "cells": [
  {
   "cell_type": "markdown",
   "metadata": {},
   "source": [
    "# 03. 리스트(list)\n",
    "---\n",
    "## 03-01. 리스트 개요\n",
    "### 03-01-01. 리스트란?\n",
    "* 일련의 값이 모인 집합을 다루기 위한 자료형, python은 배열과 같은 표현식을 쓰지만, 일반적인 프로그래밍 언어와 다르게, 길이를 동적으로 조절할 수 있어 list라고 부른다.\n",
    "\n",
    "## 03-01-02. 리스트 표현식"
   ]
  },
  {
   "cell_type": "code",
   "execution_count": 2,
   "metadata": {},
   "outputs": [],
   "source": [
    "리스트명 = ['값1', '값2', ...]"
   ]
  },
  {
   "cell_type": "markdown",
   "metadata": {},
   "source": [
    "* List의 각 요소의 자료형은 무엇이든 될 수 있다.(서로 다른 자료형이여도 괜찮다.)\n",
    "* List에 저장되는 요소들은 0부터 시작하는 인덱스 체계로 구분해서 저장된다."
   ]
  },
  {
   "cell_type": "code",
   "execution_count": 4,
   "metadata": {},
   "outputs": [
    {
     "name": "stdout",
     "output_type": "stream",
     "text": [
      "['orange', 1, 'pear', 'banana', 'kiwi', 'apple']\n",
      "1\n",
      "kiwi\n"
     ]
    }
   ],
   "source": [
    "fruits = ['orange', 1, 'pear', 'banana', 'kiwi', 'apple']\n",
    "\n",
    "print(fruits)\n",
    "print(fruits[1])\n",
    "print(fruits[4])"
   ]
  },
  {
   "cell_type": "markdown",
   "metadata": {},
   "source": [
    "03-01-03 문자열의 split()\n",
    "* 문자열을 구분자 기준으로 분리하여 list로 변환해주는 메서드"
   ]
  },
  {
   "cell_type": "code",
   "execution_count": 5,
   "metadata": {},
   "outputs": [
    {
     "name": "stdout",
     "output_type": "stream",
     "text": [
      "['빨', '주', '노', '초', '파', '남', '보']\n"
     ]
    }
   ],
   "source": [
    "rainbow = '빨-주-노-초-파-남-보'\n",
    "\n",
    "print(rainbow.split('-'))"
   ]
  },
  {
   "cell_type": "markdown",
   "metadata": {},
   "source": [
    "### 03-01-04. list() 메서드\n",
    "* 반복 가능한 객체를 받아서 각 요소를 리스트의 원소로 반환"
   ]
  },
  {
   "cell_type": "code",
   "execution_count": 6,
   "metadata": {},
   "outputs": [
    {
     "name": "stdout",
     "output_type": "stream",
     "text": [
      "True\n",
      "<class 'list'>\n",
      "<class 'list'>\n"
     ]
    }
   ],
   "source": [
    "list1 = [] # 빈 리스트를 생성\n",
    "list2 = list() # 새로운 빈 리스트 생성\n",
    "\n",
    "print(list1 == list2)\n",
    "print(type(list1))\n",
    "print(type(list2))"
   ]
  },
  {
   "cell_type": "code",
   "execution_count": 7,
   "metadata": {},
   "outputs": [
    {
     "name": "stdout",
     "output_type": "stream",
     "text": [
      "['h', 'e', 'l', 'l', 'o']\n"
     ]
    }
   ],
   "source": [
    "list3 = list('hello')\n",
    "\n",
    "print(list3)"
   ]
  },
  {
   "cell_type": "markdown",
   "metadata": {},
   "source": [
    "---\n",
    "### 03-02. 리스트 연산"
   ]
  },
  {
   "cell_type": "code",
   "execution_count": 8,
   "metadata": {},
   "outputs": [],
   "source": [
    "safari_list = [\"Bear\", \"koara\", \"Gorilla\", \"squirrel\"]\n",
    "another_safari_list = [\"Monkey\", \"Tiger\", \"Wolf\"]"
   ]
  },
  {
   "cell_type": "markdown",
   "metadata": {},
   "source": [
    "### 03-02-01. 리스트 합치기: +\n",
    "* 리스티간 + 연산자를 이용해 하나로 합칠 수 있다."
   ]
  },
  {
   "cell_type": "code",
   "execution_count": 9,
   "metadata": {},
   "outputs": [
    {
     "name": "stdout",
     "output_type": "stream",
     "text": [
      "['Bear', 'koara', 'Gorilla', 'squirrel', 'Monkey', 'Tiger', 'Wolf']\n"
     ]
    }
   ],
   "source": [
    "print(safari_list + another_safari_list)"
   ]
  },
  {
   "cell_type": "markdown",
   "metadata": {},
   "source": [
    "### 03-02-02. 리스트 반복 : *\n",
    "* 리스트에 * 연산을 하면 요소를 반복할 수 있다."
   ]
  },
  {
   "cell_type": "code",
   "execution_count": 10,
   "metadata": {},
   "outputs": [
    {
     "name": "stdout",
     "output_type": "stream",
     "text": [
      "['Bear', 'koara', 'Gorilla', 'squirrel', 'Bear', 'koara', 'Gorilla', 'squirrel', 'Bear', 'koara', 'Gorilla', 'squirrel', 'Bear', 'koara', 'Gorilla', 'squirrel']\n"
     ]
    }
   ],
   "source": [
    "print(safari_list * 4)"
   ]
  },
  {
   "cell_type": "markdown",
   "metadata": {},
   "source": [
    "### 03-03. 리스트 메서드"
   ]
  },
  {
   "cell_type": "code",
   "execution_count": 11,
   "metadata": {},
   "outputs": [],
   "source": [
    "fruits = ['orange', 'apple', 'pear', 'banana', 'kiwi', 'apple']"
   ]
  },
  {
   "cell_type": "code",
   "execution_count": 12,
   "metadata": {},
   "outputs": [
    {
     "ename": "ValueError",
     "evalue": "'apple1' is not in list",
     "output_type": "error",
     "traceback": [
      "\u001b[1;31m---------------------------------------------------------------------------\u001b[0m",
      "\u001b[1;31mValueError\u001b[0m                                Traceback (most recent call last)",
      "Cell \u001b[1;32mIn[12], line 1\u001b[0m\n\u001b[1;32m----> 1\u001b[0m \u001b[38;5;28mprint\u001b[39m(\u001b[38;5;124m\"\u001b[39m\u001b[38;5;124mindex: \u001b[39m\u001b[38;5;124m\"\u001b[39m, \u001b[43mfruits\u001b[49m\u001b[38;5;241;43m.\u001b[39;49m\u001b[43mindex\u001b[49m\u001b[43m(\u001b[49m\u001b[38;5;124;43m\"\u001b[39;49m\u001b[38;5;124;43mapple1\u001b[39;49m\u001b[38;5;124;43m\"\u001b[39;49m\u001b[43m)\u001b[49m)\n",
      "\u001b[1;31mValueError\u001b[0m: 'apple1' is not in list"
     ]
    }
   ],
   "source": [
    "print(\"index: \", fruits.index(\"apple1\"))"
   ]
  },
  {
   "cell_type": "code",
   "execution_count": 14,
   "metadata": {},
   "outputs": [
    {
     "name": "stdout",
     "output_type": "stream",
     "text": [
      "index:  5\n"
     ]
    }
   ],
   "source": [
    "# 두번째 매개변수에 인덱스를 주면, 검색을 시작할 인덱스라는 의미를 갖음\n",
    "print(\"index: \" , fruits.index(\"apple\", 3))"
   ]
  },
  {
   "cell_type": "markdown",
   "metadata": {},
   "source": [
    "### reverse()\n",
    "* 배열을 역순으로 바꿔준다."
   ]
  },
  {
   "cell_type": "code",
   "execution_count": 15,
   "metadata": {},
   "outputs": [
    {
     "name": "stdout",
     "output_type": "stream",
     "text": [
      "['orange', 'apple', 'pear', 'banana', 'kiwi', 'apple']\n",
      "['apple', 'kiwi', 'banana', 'pear', 'apple', 'orange']\n"
     ]
    }
   ],
   "source": [
    "print(fruits)\n",
    "\n",
    "fruits.reverse()\n",
    "\n",
    "print(fruits)"
   ]
  },
  {
   "cell_type": "markdown",
   "metadata": {},
   "source": [
    "### append()\n",
    "* 리스트의 끝에 새로운 요소를 추가하는 메소드"
   ]
  },
  {
   "cell_type": "code",
   "execution_count": 16,
   "metadata": {},
   "outputs": [
    {
     "name": "stdout",
     "output_type": "stream",
     "text": [
      "['apple', 'kiwi', 'banana', 'pear', 'apple', 'orange', 'pineapple']\n"
     ]
    }
   ],
   "source": [
    "fruits.append(\"pineapple\")\n",
    "print(fruits)"
   ]
  },
  {
   "cell_type": "markdown",
   "metadata": {},
   "source": [
    "### extend()\n",
    "* 리스트의 끝에 다른 리스트의 요소를 추가"
   ]
  },
  {
   "cell_type": "code",
   "execution_count": 17,
   "metadata": {},
   "outputs": [
    {
     "name": "stdout",
     "output_type": "stream",
     "text": [
      "['apple', 'kiwi', 'banana', 'pear', 'apple', 'orange', 'pineapple', 'rainbow fruit', 'sweet lemon', 'happy apple']\n"
     ]
    }
   ],
   "source": [
    "another_fruits = ['rainbow fruit', 'sweet lemon', 'happy apple']\n",
    "\n",
    "fruits.extend(another_fruits)\n",
    "print(fruits)"
   ]
  },
  {
   "cell_type": "markdown",
   "metadata": {},
   "source": [
    "### insert()\n",
    "* 특정 위치에 요소를 삽입하는 메서드\n"
   ]
  },
  {
   "cell_type": "code",
   "execution_count": 18,
   "metadata": {},
   "outputs": [
    {
     "name": "stdout",
     "output_type": "stream",
     "text": [
      "['apple', 'monket banana', 'kiwi', 'banana', 'pear', 'apple', 'orange', 'pineapple', 'rainbow fruit', 'sweet lemon', 'happy apple']\n"
     ]
    }
   ],
   "source": [
    "fruits.insert(1, 'monket banana')\n",
    "print(fruits)"
   ]
  },
  {
   "cell_type": "markdown",
   "metadata": {},
   "source": [
    "### sort()\n",
    "* 리스트의 요소를 정렬할 때 사용하는 메서드"
   ]
  },
  {
   "cell_type": "code",
   "execution_count": 22,
   "metadata": {},
   "outputs": [
    {
     "name": "stdout",
     "output_type": "stream",
     "text": [
      "['apple', 'apple', 'banana', 'happy apple', 'kiwi', 'monket banana', 'orange', 'pear', 'pineapple', 'rainbow fruit', 'sweet lemon']\n",
      "['sweet lemon', 'rainbow fruit', 'pineapple', 'pear', 'orange', 'monket banana', 'kiwi', 'happy apple', 'banana', 'apple', 'apple']\n",
      "['pear', 'kiwi', 'apple', 'apple', 'orange', 'banana', 'pineapple', 'sweet lemon', 'happy apple', 'rainbow fruit', 'monket banana']\n"
     ]
    }
   ],
   "source": [
    "# 기본정렬\n",
    "fruits.sort()\n",
    "print(fruits)\n",
    "\n",
    "# 내립차순 정렬\n",
    "fruits.sort(reverse=True)\n",
    "print(fruits)\n",
    "\n",
    "# 문자열 길이가 짧은 순으로 정렬\n",
    "fruits.sort(key=len)\n",
    "print(fruits)"
   ]
  },
  {
   "cell_type": "markdown",
   "metadata": {},
   "source": [
    "### revmove()\n",
    "* 리스트에서 특정값을 찾아 제거하는 매서드"
   ]
  },
  {
   "cell_type": "code",
   "execution_count": 23,
   "metadata": {},
   "outputs": [
    {
     "name": "stdout",
     "output_type": "stream",
     "text": [
      "['pear', 'apple', 'apple', 'orange', 'banana', 'pineapple', 'sweet lemon', 'happy apple', 'rainbow fruit', 'monket banana']\n"
     ]
    }
   ],
   "source": [
    "fruits.remove('kiwi')\n",
    "print(fruits)"
   ]
  },
  {
   "cell_type": "markdown",
   "metadata": {},
   "source": [
    "### pop()\n",
    "* 특정 위치에 있는 요소를 제거하고 반환하는 메서드\n",
    "* 인덱스를 지정하지 않으면 리스트의 마지막 요소를 제거하고 반환"
   ]
  },
  {
   "cell_type": "code",
   "execution_count": 24,
   "metadata": {},
   "outputs": [
    {
     "name": "stdout",
     "output_type": "stream",
     "text": [
      "pear\n",
      "['apple', 'apple', 'orange', 'banana', 'pineapple', 'sweet lemon', 'happy apple', 'rainbow fruit', 'monket banana']\n"
     ]
    }
   ],
   "source": [
    "temp = fruits.pop(0)\n",
    "print(temp)\n",
    "print(fruits)"
   ]
  },
  {
   "cell_type": "markdown",
   "metadata": {},
   "source": [
    "---\n",
    "## 03-05. del 키워드\n",
    "### 03-06-01. del\n",
    "* 객체를 삭제할 때 사용되는 키워드\n",
    "* 리스트의 특정 요소를 삭제하거나 변수를 삭제할 때 사용한다."
   ]
  },
  {
   "cell_type": "code",
   "execution_count": 29,
   "metadata": {},
   "outputs": [
    {
     "name": "stdout",
     "output_type": "stream",
     "text": [
      "['a', 'b', 'c', 'd', 'e', 'f']\n"
     ]
    }
   ],
   "source": [
    "abc_list = ['a','b','c','d','e','f']\n",
    "\n",
    "# del abc_list[0] # 0번째 인덱스의 요소 제거\n",
    "\n",
    "# del abc_list[1:3] # 1번째 인덱스에서 3번째까지 제거\n",
    "\n",
    "# del abc_list[:] # 모든 요소 제거\n",
    "\n",
    "# del abc_list # list 자체를 제거해서 에러 발생\n",
    "\n",
    "print(abc_list)\n",
    "\n"
   ]
  },
  {
   "cell_type": "markdown",
   "metadata": {},
   "source": [
    "# 04. 튜플 (Tupled)\n",
    "---\n",
    "## 014-01. 튜플 개요\n",
    "### 04-01-01. 튜플이란?\n",
    "* 여러개의 값을 하나의 변수에 저장할 수 있는 자료구조이다.\n",
    "* 튜플은 한번 생성되면 그 값을 변경할 수 없다.\n",
    "\n",
    "### 04-01-02. 튜플 포현식\n",
    "* 튜플은 소괄호를 사용하거나 사용하지 않고 생성할 수 있으며, 생성된 이후에는 그 값을 변경할 수 없다."
   ]
  },
  {
   "cell_type": "code",
   "execution_count": null,
   "metadata": {},
   "outputs": [],
   "source": [
    "튜플명 = ('값1', '값2', ...)"
   ]
  },
  {
   "cell_type": "code",
   "execution_count": 32,
   "metadata": {},
   "outputs": [
    {
     "name": "stdout",
     "output_type": "stream",
     "text": [
      "((1, 2, 'hello'), ('test', 1, 2, 3, 4))\n",
      "(1, 2, 'hello')\n",
      "hello\n",
      "(1, 2, 3)\n"
     ]
    }
   ],
   "source": [
    "tuples = (1,2, 'hello'), ('test',1,2,3,4)\n",
    "\n",
    "print(tuples)\n",
    "print(tuples[0])\n",
    "print(tuples[0][2])\n",
    "\n",
    "no_wrap_tuple = 1,2,3\n",
    "\n",
    "print(no_wrap_tuple)"
   ]
  },
  {
   "cell_type": "markdown",
   "metadata": {},
   "source": [
    "---\n",
    "## 04-02. 튜플 연산\n",
    "### 04-022-01. 불변 객체\n",
    "* 튜플은 불변 객체이므로 요소 값을 한번 할당하면, 추가, 수정, 삭제가 불가능하다.\n",
    "* 이때 값을 재할당하면 값이 다시 입력될 수 있는데, <br>\n",
    "기존의 변수에 값이 재할당 되는 것이 아닌, 새로운 변수가 생성되는 것"
   ]
  },
  {
   "cell_type": "code",
   "execution_count": 33,
   "metadata": {},
   "outputs": [
    {
     "ename": "TypeError",
     "evalue": "'tuple' object does not support item assignment",
     "output_type": "error",
     "traceback": [
      "\u001b[1;31m---------------------------------------------------------------------------\u001b[0m",
      "\u001b[1;31mTypeError\u001b[0m                                 Traceback (most recent call last)",
      "Cell \u001b[1;32mIn[33], line 3\u001b[0m\n\u001b[0;32m      1\u001b[0m tuples \u001b[38;5;241m=\u001b[39m (\u001b[38;5;241m1\u001b[39m, \u001b[38;5;241m2\u001b[39m, \u001b[38;5;124m'\u001b[39m\u001b[38;5;124mhello\u001b[39m\u001b[38;5;124m'\u001b[39m), (\u001b[38;5;124m'\u001b[39m\u001b[38;5;124mtest\u001b[39m\u001b[38;5;124m'\u001b[39m, \u001b[38;5;241m1\u001b[39m,\u001b[38;5;241m2\u001b[39m,\u001b[38;5;241m3\u001b[39m,\u001b[38;5;241m4\u001b[39m)\n\u001b[1;32m----> 3\u001b[0m \u001b[43mtuples\u001b[49m\u001b[43m[\u001b[49m\u001b[38;5;241;43m0\u001b[39;49m\u001b[43m]\u001b[49m\u001b[38;5;241m=\u001b[39m (\u001b[38;5;241m1\u001b[39m,\u001b[38;5;241m2\u001b[39m,\u001b[38;5;241m3\u001b[39m,\u001b[38;5;241m4\u001b[39m) \n",
      "\u001b[1;31mTypeError\u001b[0m: 'tuple' object does not support item assignment"
     ]
    }
   ],
   "source": [
    "tuples = (1, 2, 'hello'), ('test', 1,2,3,4)\n",
    "\n",
    "tuples[0]= (1,2,3,4) ## 값을 못바꿈"
   ]
  },
  {
   "cell_type": "code",
   "execution_count": 34,
   "metadata": {},
   "outputs": [
    {
     "name": "stdout",
     "output_type": "stream",
     "text": [
      "2930621596512\n",
      "2930621612352\n"
     ]
    }
   ],
   "source": [
    "# id(): 인자로 전달된 개체의 주소값을 반환\n",
    "# 메모리의 위치가 다르다.\n",
    "# 튜플은 불변객체이기 때문에 튜플이 변경될 때마다 새로운 객체를 생성한다.\n",
    "\n",
    "test_list = (1, 2, 3, 4)\n",
    "print(id(test_list))\n",
    "\n",
    "test_list = (3, 4, 5)\n",
    "print(id(test_list))\n"
   ]
  },
  {
   "cell_type": "markdown",
   "metadata": {},
   "source": [
    "### 04- 02-02. 튜플간 연산"
   ]
  },
  {
   "cell_type": "code",
   "execution_count": 36,
   "metadata": {},
   "outputs": [],
   "source": [
    "safari_tuple = ('bear', 'koara', 'gorilla', 'squirrel')\n"
   ]
  },
  {
   "cell_type": "code",
   "execution_count": 37,
   "metadata": {},
   "outputs": [
    {
     "name": "stdout",
     "output_type": "stream",
     "text": [
      "('bear', 'koara', 'gorilla', 'squirrel', 'monkey', 'tiger', 'wolf')\n",
      "('bear', 'koara', 'gorilla', 'squirrel', 'bear', 'koara', 'gorilla', 'squirrel', 'bear', 'koara', 'gorilla', 'squirrel')\n",
      "7\n"
     ]
    }
   ],
   "source": [
    "# 튜플 합치기\n",
    "another_safari_tuple = ('monkey', 'tiger', 'wolf')\n",
    "\n",
    "print(safari_tuple + another_safari_tuple)\n",
    "\n",
    "# 튜플 반복\n",
    "print(safari_tuple * 3)\n",
    "\n",
    "# 튜플의 길이\n",
    "print(len(safari_tuple + another_safari_tuple))\n",
    "\n"
   ]
  }
 ],
 "metadata": {
  "kernelspec": {
   "display_name": "pylecture_env",
   "language": "python",
   "name": "python3"
  },
  "language_info": {
   "codemirror_mode": {
    "name": "ipython",
    "version": 3
   },
   "file_extension": ".py",
   "mimetype": "text/x-python",
   "name": "python",
   "nbconvert_exporter": "python",
   "pygments_lexer": "ipython3",
   "version": "3.12.7"
  }
 },
 "nbformat": 4,
 "nbformat_minor": 2
}
